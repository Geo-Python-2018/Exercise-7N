{
 "cells": [
  {
   "cell_type": "markdown",
   "metadata": {
    "deletable": false,
    "editable": false,
    "nbgrader": {
     "checksum": "5309e81753ade85d78e5bfe72f569678",
     "grade": false,
     "grade_id": "cell-a85f410ef0585bb8",
     "locked": true,
     "schema_version": 1,
     "solution": false
    }
   },
   "source": [
    "# Exercise 7: Plotting data in Python\n",
    "\n",
    "This week we'll put together our data analysis and plotting skills using Pandas and Matplotlib to visualize the temperature data we have been exploring for the course thus far.\n",
    "\n",
    "For each problem you need to modify the given notebook, and then upload your files to GitHub.\n",
    "The answers to the questions in this week's exercise should be given by modifying the document in places where asked.\n",
    "\n",
    "- **Exercise 7 is due by 16:00 on 28.10.**\n",
    "- Don't forget to check out [the hints for this week's exercise](https://geo-python.github.io/2018/lessons/L7/exercise-7.html) if you're having trouble.\n",
    "- Scores on this exercise are out of 30 points.\n",
    "\n"
   ]
  },
  {
   "cell_type": "markdown",
   "metadata": {
    "deletable": false,
    "editable": false,
    "nbgrader": {
     "checksum": "504de76bba16ed38cdbaad8ba69e6fa4",
     "grade": false,
     "grade_id": "cell-3562514673b66b19",
     "locked": true,
     "schema_version": 1,
     "solution": false
    }
   },
   "source": [
    "## Problem 1: Simple scatter plot using random (5 points)\n",
    "\n",
    "The aim of this task is to create a simple scatter plot using random numbers and save an image of that plot into your personal \n",
    "GitHub repository for this exercise. \n",
    "The end result should look something like this (*NOTE*: your colors may be different):\n",
    " \n",
    "![Example figure](img/problem1_example.png)\n",
    " \n",
    "### Steps\n",
    "\n",
    "1: Create 1000 random points using the NumPy function `np.random.rand()`, which is useful for creating random numbers for these kind of test plots.\n",
    "\n",
    " - create variables **`x`** and **`y`** and store 1000 random numbers in them. These numbers will be used for plotting the points \n",
    "   - Important: use lower case variable names for x and y"
   ]
  },
  {
   "cell_type": "code",
   "execution_count": null,
   "metadata": {
    "deletable": false,
    "nbgrader": {
     "checksum": "8ce92ab263cb79c7e83edb83b4a7cf1f",
     "grade": false,
     "grade_id": "random_points",
     "locked": false,
     "schema_version": 1,
     "solution": true
    }
   },
   "outputs": [],
   "source": [
    "# YOUR CODE HERE\n",
    "raise NotImplementedError()"
   ]
  },
  {
   "cell_type": "code",
   "execution_count": null,
   "metadata": {
    "deletable": false,
    "editable": false,
    "nbgrader": {
     "checksum": "fa3bb815c21f9338759978b21bb22a06",
     "grade": true,
     "grade_id": "random_points_tests",
     "locked": true,
     "points": 1,
     "schema_version": 1,
     "solution": false
    }
   },
   "outputs": [],
   "source": [
    "# These test prints should print first numbers in the variables\n",
    "print(x[0:5])\n",
    "print(y[0:5])\n"
   ]
  },
  {
   "cell_type": "markdown",
   "metadata": {
    "deletable": false,
    "editable": false,
    "nbgrader": {
     "checksum": "12393619a411017c2ac26faa5672d064",
     "grade": false,
     "grade_id": "cell-7fb6a23ba6c8ea59",
     "locked": true,
     "schema_version": 1,
     "solution": false
    }
   },
   "source": [
    "2: Create a variable **`colors`** in which you store 1000 random colors so that we get a little bit of \"sweeter\" looking plot\n",
    "  - Basically the colors variable should also be an array full of random numbers.\n",
    " "
   ]
  },
  {
   "cell_type": "code",
   "execution_count": null,
   "metadata": {
    "deletable": false,
    "nbgrader": {
     "checksum": "8afd74a847353ba988ccfccc4b9a96f3",
     "grade": false,
     "grade_id": "colors",
     "locked": false,
     "schema_version": 1,
     "solution": true
    }
   },
   "outputs": [],
   "source": [
    "# YOUR CODE HERE\n",
    "raise NotImplementedError()"
   ]
  },
  {
   "cell_type": "code",
   "execution_count": null,
   "metadata": {
    "deletable": false,
    "editable": false,
    "nbgrader": {
     "checksum": "47afa16e145346ac2e9455a6d2287b94",
     "grade": true,
     "grade_id": "colors_tests",
     "locked": true,
     "points": 1,
     "schema_version": 1,
     "solution": false
    }
   },
   "outputs": [],
   "source": [
    "# This test print should print a number\n",
    "print(colors[0])\n"
   ]
  },
  {
   "cell_type": "markdown",
   "metadata": {
    "deletable": false,
    "editable": false,
    "nbgrader": {
     "checksum": "c42b17074eb90ce2ef072c15a4f14525",
     "grade": false,
     "grade_id": "cell-4f766d991d40522f",
     "locked": true,
     "schema_version": 1,
     "solution": false
    }
   },
   "source": [
    "3: create a scatter plot of points (point-size=50) with random colors using the `plt.scatter()` function.\n",
    "   - you can modify the size of a point using parameter `s` \n",
    "   - you can set the colors for the points using parameter `c`\n",
    "   \n",
    "\n",
    "4: create variables `title`, `xlabel` and `ylabel` and add a title, x-label, and y-label to your plot as shown in the example figure above. \n",
    "\n",
    "**Notice:** You can use a *magic* command `%matplotlib notebook` to show the plot inside your notebook.\n"
   ]
  },
  {
   "cell_type": "code",
   "execution_count": null,
   "metadata": {
    "deletable": false,
    "nbgrader": {
     "checksum": "0e39a3890208fbc7ccf82e9012dc7460",
     "grade": true,
     "grade_id": "scatter_plot",
     "locked": false,
     "points": 2,
     "schema_version": 1,
     "solution": true
    }
   },
   "outputs": [],
   "source": [
    "# YOUR CODE HERE\n",
    "raise NotImplementedError()"
   ]
  },
  {
   "cell_type": "markdown",
   "metadata": {
    "deletable": false,
    "editable": false,
    "nbgrader": {
     "checksum": "b81f6fdefeeba408079d1ad08fb37ea3",
     "grade": false,
     "grade_id": "cell-0545d812600e5465",
     "locked": true,
     "schema_version": 1,
     "solution": false
    }
   },
   "source": [
    "5: Create a variable `outputfp` with the output filename `my_first_plot.png` and save your plot as a PNG file into the disk. "
   ]
  },
  {
   "cell_type": "code",
   "execution_count": null,
   "metadata": {
    "deletable": false,
    "nbgrader": {
     "checksum": "9b84f7e47b65188fb908ac22860b7982",
     "grade": true,
     "grade_id": "cell-b570a10cc4575787",
     "locked": false,
     "points": 1,
     "schema_version": 1,
     "solution": true
    }
   },
   "outputs": [],
   "source": [
    "# YOUR CODE HERE\n",
    "raise NotImplementedError()\n",
    "\n",
    "# This test print statement should print the output filename of your figure\n",
    "print(outputfp)\n"
   ]
  },
  {
   "cell_type": "markdown",
   "metadata": {
    "deletable": false,
    "editable": false,
    "nbgrader": {
     "checksum": "d6592d904f2532578a3e0f023462e07d",
     "grade": false,
     "grade_id": "cell-ba40728abeff91e4",
     "locked": true,
     "schema_version": 1,
     "solution": false
    }
   },
   "source": [
    "6: Upload the image you produced and your notebook to your own personal GitHub repository.\n",
    "\n",
    "### Done!\n",
    "\n",
    "Now you can move to problem 2."
   ]
  }
 ],
 "metadata": {
  "kernelspec": {
   "display_name": "Python 3",
   "language": "python",
   "name": "python3"
  },
  "language_info": {
   "codemirror_mode": {
    "name": "ipython",
    "version": 3
   },
   "file_extension": ".py",
   "mimetype": "text/x-python",
   "name": "python",
   "nbconvert_exporter": "python",
   "pygments_lexer": "ipython3",
   "version": "3.6.4"
  }
 },
 "nbformat": 4,
 "nbformat_minor": 2
}
