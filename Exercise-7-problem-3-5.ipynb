{
 "cells": [
  {
   "cell_type": "markdown",
   "metadata": {
    "deletable": false,
    "editable": false,
    "nbgrader": {
     "checksum": "594c292e34c9c5dd58d7f18b6dc6209a",
     "grade": false,
     "grade_id": "cell-a85f410ef0585bb8",
     "locked": true,
     "schema_version": 1,
     "solution": false
    }
   },
   "source": [
    "# Exercise 7: Plotting data in Python\n",
    "\n",
    "This week we'll put together our data analysis and plotting skills using NumPy and Matplotlib to visualize the temperature data we have been exploring for the course thus far.\n",
    "\n",
    "For each problem you need to modify the given notebook, and then upload your files to GitHub.\n",
    "The answers to the questions in this week's exercise should be given by modifying the document in places where asked.\n",
    "\n",
    "- **Exercise 7 is due by 16:00 on 28.10.**\n",
    "- Don't forget to check out [the hints for this week's exercise](https://geo-python.github.io/2018/lessons/L7/exercise-7.html) if you're having trouble.\n",
    "- Scores on this exercise are out of 30 points.\n"
   ]
  },
  {
   "cell_type": "markdown",
   "metadata": {
    "deletable": false,
    "editable": false,
    "nbgrader": {
     "checksum": "1bd9a59af1b84a194e339b0ed2bbb6cb",
     "grade": false,
     "grade_id": "cell-5fb2354f96e12682",
     "locked": true,
     "schema_version": 1,
     "solution": false
    }
   },
   "source": [
    "## Problem 3 - Seasonal temperature anomalies, visualized (7 points)\n",
    "\n",
    "![img/seasonal_tempearatures.png](img/seasonal_temperatures.png)<br/>\n",
    "*The goal for this problem is to make this plot.*\n",
    "\n",
    "For Problem 3, the goal is to recreate the plot above, a 4-panel plot showing seasonal temperature anomalies from 1953-2016.\n",
    "\n",
    "### Steps\n",
    "\n",
    "1: Read in the `helsinki-numpy.csv` data into NumPy as in Problem 2.\n",
    "\n",
    "2: Split the data into separate column vectors for `date_monthly`, `year_monthly`, `month_monthly`, `temp_monthly`, `temp_monthly_celsius`, `ref_temps_monthly`, and `anomaly`. The columns are in that order in the data file."
   ]
  },
  {
   "cell_type": "code",
   "execution_count": null,
   "metadata": {
    "deletable": false,
    "nbgrader": {
     "checksum": "988845921e1467790d136a8aafbdcfb1",
     "grade": false,
     "grade_id": "read_data",
     "locked": false,
     "schema_version": 1,
     "solution": true
    }
   },
   "outputs": [],
   "source": [
    "# YOUR CODE HERE\n",
    "raise NotImplementedError()"
   ]
  },
  {
   "cell_type": "code",
   "execution_count": null,
   "metadata": {
    "deletable": false,
    "editable": false,
    "nbgrader": {
     "checksum": "82b6284d45fee21b2cd2e8c15bca7fe2",
     "grade": true,
     "grade_id": "read_data_tests",
     "locked": true,
     "points": 1,
     "schema_version": 1,
     "solution": false
    }
   },
   "outputs": [],
   "source": [
    "# These test prints should print first five rows\n",
    "print(data[:5])\n",
    "print(date_monthly[:5])\n"
   ]
  },
  {
   "cell_type": "markdown",
   "metadata": {
    "deletable": false,
    "editable": false,
    "nbgrader": {
     "checksum": "7f191caafbc42b784dd38079e3c992e4",
     "grade": false,
     "grade_id": "cell-0804481faa5e0152",
     "locked": true,
     "schema_version": 1,
     "solution": false
    }
   },
   "source": [
    "2: Create four new sets of variables for storing seasonal dates and temperature anomalies for the winter, spring, summer, and fall.\n",
    "\n",
    "  - **Winter**: `date_winter`, `year_winter`, and `anomaly_winter`  should cover months from December to February of the current year\n",
    "  - **Spring** `date_spring`, `year_spring`, and `anomaly_spring`  should cover months from March to May\n",
    "  - **Summer** `date_summer`, `year_summer`, and `anomaly_summer`  should cover months from June to August\n",
    "  - **Fall** `date_fall`, `year_fall`, and `anomaly_fall`  should cover months from September to November\n",
    "  \n",
    "**Important**: Use lower case naming for the variables."
   ]
  },
  {
   "cell_type": "code",
   "execution_count": null,
   "metadata": {
    "deletable": false,
    "nbgrader": {
     "checksum": "ca7ea9d3528bca1aedf2ba6dbf1e3d01",
     "grade": false,
     "grade_id": "cell-e2e8473b39492cf7",
     "locked": false,
     "schema_version": 1,
     "solution": true
    }
   },
   "outputs": [],
   "source": [
    "# YOUR CODE HERE\n",
    "raise NotImplementedError()"
   ]
  },
  {
   "cell_type": "code",
   "execution_count": null,
   "metadata": {
    "deletable": false,
    "editable": false,
    "nbgrader": {
     "checksum": "943ea594266b86b7db4f5b0bac353dfb",
     "grade": true,
     "grade_id": "cell-55cd3fe7bd20cd0e",
     "locked": true,
     "points": 1,
     "schema_version": 1,
     "solution": false
    }
   },
   "outputs": [],
   "source": [
    "# These test prints should print first 3 rows of each seasonal anomaly\n",
    "print(date_winter[:3])\n",
    "print(date_spring[:3])\n",
    "print(date_summer[:3])\n",
    "print(date_fall[:3])\n"
   ]
  },
  {
   "cell_type": "markdown",
   "metadata": {
    "deletable": false,
    "editable": false,
    "nbgrader": {
     "checksum": "90641b27332a6012c74bfaff6cea7899",
     "grade": false,
     "grade_id": "cell-34c6ac27ae46e24d",
     "locked": true,
     "schema_version": 1,
     "solution": false
    }
   },
   "source": [
    "Next we want to aggregate the temperature anomalies (`anomaly_<season>`) into yearly averages. Hence, for each season in each year you should have a single mean value. \n",
    "\n",
    "**3:** Create four new NumPy arrays (called `winter_yearly`, `spring_yearly`, `summer_yearly` and `fall_yearly`) that will contain the seasonal mean temperature anomalies of the `anomaly_<season>` values (*temperature anomalies*) from different seasons. You should also create another NumPy array called `year_yearly` that contains the unique year values in `year_monthly` (i.e., a single value for each year in which we have data). Since you know you will have one average seasonal value for each year, you can create NumPy arrays full of zeros that have the same size as `year_yearly` to store the seasonal average values.\n",
    "\n",
    "- *Hint: You can use a `for` loop to iterate over all of the years and store a seasonal average value using a mask based on the loop's current year and the location of the corresponding values in the seasonal anomaly arrays (e.g., `anomaly_spring`)*. \n",
    "\n",
    "Help: Check out [the hints for this week's exercise](https://geo-python.github.io/2018/lessons/L7/exercise-7.html) if you're having trouble."
   ]
  },
  {
   "cell_type": "code",
   "execution_count": null,
   "metadata": {
    "deletable": false,
    "nbgrader": {
     "checksum": "b641021c52a0b7ef79b1f8a588264831",
     "grade": false,
     "grade_id": "aggregate",
     "locked": false,
     "schema_version": 1,
     "solution": true
    }
   },
   "outputs": [],
   "source": [
    "# YOUR CODE HERE\n",
    "raise NotImplementedError()"
   ]
  },
  {
   "cell_type": "code",
   "execution_count": null,
   "metadata": {
    "deletable": false,
    "editable": false,
    "nbgrader": {
     "checksum": "1be2daf8362604cb8dd156e08f6241c5",
     "grade": true,
     "grade_id": "aggregate_tests",
     "locked": true,
     "points": 2,
     "schema_version": 1,
     "solution": false
    }
   },
   "outputs": [],
   "source": [
    "# These test prints should print data from first 5 years of each DataFrame\n",
    "print(winter_yearly[:5])\n",
    "print(spring_yearly[:5])\n",
    "print(summer_yearly[:5])\n",
    "print(fall_yearly[:5])\n"
   ]
  },
  {
   "cell_type": "markdown",
   "metadata": {
    "deletable": false,
    "editable": false,
    "nbgrader": {
     "checksum": "5181a69713e67e635f0d692bcce0e43e",
     "grade": false,
     "grade_id": "cell-ef30332308f8c8aa",
     "locked": true,
     "schema_version": 1,
     "solution": false
    }
   },
   "source": [
    "4: Create a figure with 4 subplots in the arrangement shown above, labeling axes as needed, with gridlines on, and with a legend for each panel.\n",
    "\n",
    " - You can find tips about these different plot features in the [Matplotlib documentation](https://matplotlib.org/contents.html) and [the hints for this week's exercise](https://geo-python.github.io/2018/lessons/L7/exercise-7.html)."
   ]
  },
  {
   "cell_type": "code",
   "execution_count": null,
   "metadata": {
    "deletable": false,
    "nbgrader": {
     "checksum": "05acca9705fd47b044730961652f17bf",
     "grade": true,
     "grade_id": "plot_seasons",
     "locked": false,
     "points": 2,
     "schema_version": 1,
     "solution": true
    }
   },
   "outputs": [],
   "source": [
    "# YOUR CODE HERE\n",
    "raise NotImplementedError()"
   ]
  },
  {
   "cell_type": "markdown",
   "metadata": {
    "deletable": false,
    "editable": false,
    "nbgrader": {
     "checksum": "a45255d76bd932807b7221ef74192d6e",
     "grade": false,
     "grade_id": "cell-a05e23003b70706f",
     "locked": true,
     "schema_version": 1,
     "solution": false
    }
   },
   "source": [
    "5: Save your plot as PNG file into disk with filename `seasonal_temperatures.png` "
   ]
  },
  {
   "cell_type": "code",
   "execution_count": null,
   "metadata": {
    "deletable": false,
    "nbgrader": {
     "checksum": "ca9783deff8579061c97d26dcb661f25",
     "grade": true,
     "grade_id": "save_file",
     "locked": false,
     "points": 1,
     "schema_version": 1,
     "solution": true
    }
   },
   "outputs": [],
   "source": [
    "# YOUR CODE HERE\n",
    "raise NotImplementedError()"
   ]
  },
  {
   "cell_type": "markdown",
   "metadata": {
    "deletable": false,
    "editable": false,
    "nbgrader": {
     "checksum": "db05cbc93c45ebf4cf9ba7be4b28afc9",
     "grade": false,
     "grade_id": "cell-225361dde8e24eca",
     "locked": true,
     "schema_version": 1,
     "solution": false
    }
   },
   "source": [
    "6: Upload the figure and the notebook into your personal GitHub repository.\n",
    "\n",
    "### Done!\n",
    "\n",
    "That's it! Now you can continue into problem 4 (below)."
   ]
  },
  {
   "cell_type": "markdown",
   "metadata": {
    "deletable": false,
    "editable": false,
    "nbgrader": {
     "checksum": "42a4940c9be8c8b0fcb098e061b1ab12",
     "grade": false,
     "grade_id": "cell-7b4d0c5e6ddfc178",
     "locked": true,
     "schema_version": 1,
     "solution": false
    }
   },
   "source": [
    "# Problem 4 - Bar plot for seasonal temperature anomalies (6 points)\n",
    "\n",
    "In this problem the aim is to create a single plot where the temperature anomalies for different seasons of the year 2012 are visualized with bar plot. The figure should look something like the one below where temperatures above 0 degrees are plotted with red color, and temperatures below or equal to zero degree are plotted with blue color:\n",
    "\n",
    "![seasonal anomalies](img/seasonal_anomalies_bar.png)\n",
    "\n",
    "## Steps\n",
    "\n",
    "**1:** Create variables `wi`, `sp`, `su`, and `fa` that correspond to different seasons (namely winter, spring, summer and fall). You should store for each of these variables the **mean anomaly temperature** for each season of the year **2012**. \n",
    "\n",
    "**Hint:** You can get those values from `winter_yearly`, `spring_yearly`, etc. arrays created at the end of Problem 3."
   ]
  },
  {
   "cell_type": "code",
   "execution_count": null,
   "metadata": {
    "deletable": false,
    "nbgrader": {
     "checksum": "08850a0c345808684a0a1c13f5a1c717",
     "grade": false,
     "grade_id": "cell-c29c2dac72d0cbe7",
     "locked": false,
     "schema_version": 1,
     "solution": true
    }
   },
   "outputs": [],
   "source": [
    "# YOUR CODE HERE\n",
    "raise NotImplementedError()"
   ]
  },
  {
   "cell_type": "code",
   "execution_count": null,
   "metadata": {
    "deletable": false,
    "editable": false,
    "nbgrader": {
     "checksum": "ca17102c8074dea3a2dac7ad87c1e218",
     "grade": true,
     "grade_id": "cell-2ab917c9cdbbfd63",
     "locked": true,
     "points": 1,
     "schema_version": 1,
     "solution": false
    }
   },
   "outputs": [],
   "source": []
  },
  {
   "cell_type": "markdown",
   "metadata": {
    "deletable": false,
    "editable": false,
    "nbgrader": {
     "checksum": "9d3c8f5acf5024a4414cec53f3361208",
     "grade": false,
     "grade_id": "cell-37b90bfe6cb4fe92",
     "locked": true,
     "schema_version": 1,
     "solution": false
    }
   },
   "source": [
    "**2:** Create a list called `seasons` with four values: `wi`, `sp`, `su` and `fa`. "
   ]
  },
  {
   "cell_type": "code",
   "execution_count": null,
   "metadata": {
    "deletable": false,
    "nbgrader": {
     "checksum": "6d3599f670b05a10280c9bd16f824bfa",
     "grade": false,
     "grade_id": "seasons_list",
     "locked": false,
     "schema_version": 1,
     "solution": true
    }
   },
   "outputs": [],
   "source": [
    "# YOUR CODE HERE\n",
    "raise NotImplementedError()"
   ]
  },
  {
   "cell_type": "code",
   "execution_count": null,
   "metadata": {
    "deletable": false,
    "editable": false,
    "nbgrader": {
     "checksum": "9eda04474e71e2466a07abbd742896ef",
     "grade": true,
     "grade_id": "seasons_list_test",
     "locked": true,
     "points": 0.5,
     "schema_version": 1,
     "solution": false
    }
   },
   "outputs": [],
   "source": [
    "# This test print should print four values from the list\n",
    "print(seasons)\n"
   ]
  },
  {
   "cell_type": "markdown",
   "metadata": {
    "deletable": false,
    "editable": false,
    "nbgrader": {
     "checksum": "93d21057ad45b019e756be81df3e3a35",
     "grade": false,
     "grade_id": "cell-2878a64c05887534",
     "locked": true,
     "schema_version": 1,
     "solution": false
    }
   },
   "source": [
    "**3:** Visualize the anomalies:\n",
    "\n",
    "   - Initialize the **figure** and **ax** with Matplotlib's `plt.subplots()` function. You do not need pass any parameters (**[see hints](https://geo-python.github.io/2018/lessons/L7/exercise-7.html)**).\n",
    "   - Use the **`enumerate()`** function (**[see hints](https://geo-python.github.io/2018/lessons/L7/exercise-7.html)**) to (for) loop over the values in **seasons** list. When looping, you should store the list value into a variable called **`season`**. By using the `enumerate()` function you will, in addition to the list value, also get the index. \n",
    "   - **Inside the loop**: \n",
    "      \n",
    "       - Create a variable called `color`, and assign value **`\"red\"`** if the value in `season` is **higher than 0**, and **`\"blue\"`** in all other cases. \n",
    "       - Visualize the data with a bar plot by using the Matplotlib's `plt.bar()` function. The **x** parameter should be the **index** of the `seasons` list (the one you are iterating over), and the **y** parameter should be the temperature value from the **`season`** variable, and the parameter **`width`** should be **`1.0`**.\n",
    "       - Specify the value limits for the y-axis: the lower boundary should be **-6** and the upper boundary should be **6**. You should use the `set_ylim()` function to do this (see lesson materials). \n",
    "       - Remove the x-axis ticks from the plot with command (you can just copy and paste this): `ax.set_xticks([], [])`\n",
    "       - Give useful annotations for each bar: use `plt.text()` function to add following texts to specified positions:\n",
    "          \n",
    "          - Winter: at position `x=0.5` and `y=5.5` add text **`Wi`**\n",
    "          - Spring: at position `x=1.5` and `y=5.5` add text **`Sp`**\n",
    "          - Summer: at position `x=2.5` and `y=5.5` add text **`Su`**\n",
    "          - Fall: at position `x=3.5` and `y=5.5` add text **`Fa`**\n",
    "          \n",
    "   \n",
    "  - **After the loop**: \n",
    "       \n",
    "       - Add the title **`Seasonal weather anomalies in Helsinki`** to the plot. You can use parameter `fontsize=16` to adjust the fontsize to be the same as in the example figure. \n",
    "       - Add xlabel **`2012`** to the plot. You can use parameter `fontsize=16` to adjust the fontsize to be the same as in example figure. \n",
    "       - Add ylabel **`Difference from long-term\\naverage temperature (Celsius)`** to the plot. You can use parameter `fontsize=14` to adjust the fontsize to be the same as in example figure. \n",
    "       \n",
    "       - Save the figure into disk with name `seasonal_anomalies_in_2012.png`"
   ]
  },
  {
   "cell_type": "code",
   "execution_count": null,
   "metadata": {
    "deletable": false,
    "nbgrader": {
     "checksum": "27533c0694e44b3c7cbf9b89bffc1739",
     "grade": true,
     "grade_id": "anomaly_bar_plot",
     "locked": false,
     "points": 4.5,
     "schema_version": 1,
     "solution": true
    }
   },
   "outputs": [],
   "source": [
    "# YOUR CODE HERE\n",
    "raise NotImplementedError()"
   ]
  },
  {
   "cell_type": "markdown",
   "metadata": {
    "deletable": false,
    "editable": false,
    "nbgrader": {
     "checksum": "24c1f30e90d500fa8828a8dfeb9a856a",
     "grade": false,
     "grade_id": "cell-756aaf2ec5f644be",
     "locked": true,
     "schema_version": 1,
     "solution": false
    }
   },
   "source": [
    "4: Upload the figure and the notebook into your personal GitHub repository.\n",
    "\n",
    "### Done!\n",
    "\n",
    "That's it! Now you can continue into problem 5 (below)."
   ]
  },
  {
   "cell_type": "markdown",
   "metadata": {
    "deletable": false,
    "editable": false,
    "nbgrader": {
     "checksum": "fb1adfd32031e6e35d77ccfc9d7792a6",
     "grade": false,
     "grade_id": "cell-9f29d11ba5df8c3d",
     "locked": true,
     "schema_version": 1,
     "solution": false
    }
   },
   "source": [
    "## Problem 5 - Seasonal temperature anomalies, animated (5 points)\n",
    "\n",
    "![temp_anomaly_animation gif](img/anomalies.gif)<br/>\n",
    "*The goal for this problem is to make this kind of animation.*\n",
    "\n",
    "**In Problem 5**, the goal is to recreate **56 individual bar plots** that can be animated like the animation above that shows the variation in seasonal temperature anomalies from 1953-2016.\n",
    "\n",
    "**The solution from Problem 4 provides a good starting for this problem**, as now we are producing many similar plots and automating the generation of those visualizations by looping over different years. The instructions repeats quite many of the steps from Problem 4, but **they include changes as well**. \n",
    "\n",
    "## Steps\n",
    "\n",
    "Before starting, you might want to copy and paste your solution from Problem 4 into the cell below and start modifying that code.\n",
    "\n",
    " - Create a for loop where you should iterate over the range of years in your data from 1953-2016. When creating the loop assign the value of the iteration into a variable called **`year`**. \n",
    " - **Inside the loop**:\n",
    "     \n",
    "     - Following the example from Problem 4, create variables `wi`, `sp`, `su`, and `fa` that correspond to different seasons (namely winter, spring, summer and fall). You should store for each of these variables the **mean anomaly temperature** for each season of the **`year`** that you are looping over. \n",
    "     - Create a list called `seasons` with four values: `wi`, `sp`, `su` and `fa`. \n",
    "     \n",
    "     - Initialize the **figure** and **ax** with Matplotlib's `plt.subplots()` function. You do not need pass any parameters (**[see hints](https://geo-python.github.io/2018/lessons/L7/exercise-7.html)**).\n",
    "   - Use the **`enumerate()`** function (**[see hints](https://geo-python.github.io/2018/lessons/L7/exercise-7.html)**) to (for) loop over the values in **seasons** list. When looping, you should store the list value into a variable called **`season`**. By using the `enumerate()` function you will also get the index in addition to the list value. \n",
    "   \n",
    "   - **Inside another (nested) loop**: \n",
    "      \n",
    "       - Create a variable called `color`, and assign values according following criteria (**this is optional**, you can continue with the same colors and criteria as specified in Problem 4, i.e., blue-red):\n",
    "           - if the `season` value is **higher than 3** the color should get hex-color `'#b2182b'` ([what is hex color?](https://en.wikipedia.org/wiki/Web_colors#Hex_triplet))\n",
    "           - if the `season` value is **higher than 2 and below or equal to 3** the color should get hex-color `'#ef8a62'`\n",
    "           - if the `season` value is **higher or equal to 0 and below or equal to 2** the color should get hex-color `'#fddbc7'`\n",
    "           - if the `season` value is **lower or equal to -3** the color should get hex-color `'#fddbc7'`\n",
    "           - if the `season` value is **lower or equal to -2 and higher than -3** the color should get hex-color `'#67a9cf'`\n",
    "           - if the `season` value is **lower than 0 and higher than -2** the color should get hex-color `'#d1e5f0'`\n",
    "           \n",
    "       - Visualize the data with a bar plot by using the Matplotlib's `plt.bar()` function. The **x** parameter should be the **index** of the `seasons` list (the one you are iterating over), and the **y** parameter should be the temperature value from **`season`** variable, and the parameter **`width`** should be **`1.0`**.\n",
    "       - Specify the value limits for the y-axis: lower boundary should be **-6** and the upper boundary should be **6**. You should use the `set_ylim()` function to do this (see lesson materials). \n",
    "       - Remove the x-axis ticks from the plot with command (you can just copy and paste this): `ax.set_xticks([], [])`\n",
    "       - Give useful annotations for each bar: use the `plt.text()` function to add following texts to specified positions:\n",
    "          \n",
    "          - Winter: at position `x=0.5` and `y=5.5` add text **`Wi`**\n",
    "          - Spring: at position `x=1.5` and `y=5.5` add text **`Sp`**\n",
    "          - Summer: at position `x=2.5` and `y=5.5` add text **`Su`**\n",
    "          - Fall: at position `x=3.5` and `y=5.5` add text **`Fa`**\n",
    "          \n",
    "  - **After the nested loop (i.e. back to first-level loop)**: \n",
    "       \n",
    "       - Add the title **`Seasonal weather anomalies in Helsinki`** to the plot. You can use parameter `fontsize=16` to adjust the fontsize to be the same as in example figure. \n",
    "       - Add an xlabel according to the **`year`** you are plotting. You can use parameter `fontsize=16` to adjust the fontsize to be the same as in example figure. \n",
    "       - Add a ylabel **`Difference from long-term\\naverage temperature (Celsius)`** to the plot. You can use parameter `fontsize=14` to adjust the fontsize to be the same as in example figure. \n",
    "       - Create a variable called **`outfp`** and store the name of output file into it following formula `seasonal_anomalies_in_YEARX.png` where the YEARX should be replaced with the year you are iterating over.\n",
    "       - Save the figure into disk with output filename from `outfp`. It may be helpful to save these output files in a separate directory (e.g., `figures`).\n",
    "    \n",
    "- Upload your figures and notebook to your own personal GitHub repository. "
   ]
  },
  {
   "cell_type": "code",
   "execution_count": null,
   "metadata": {
    "deletable": false,
    "nbgrader": {
     "checksum": "b7340850f55fea60eba767c56a27bd1f",
     "grade": true,
     "grade_id": "animation_bar_plots",
     "locked": false,
     "points": 5,
     "schema_version": 1,
     "solution": true
    }
   },
   "outputs": [],
   "source": [
    "# YOUR CODE HERE\n",
    "raise NotImplementedError()"
   ]
  },
  {
   "cell_type": "markdown",
   "metadata": {
    "deletable": false,
    "editable": false,
    "nbgrader": {
     "checksum": "f2a8aeb2976161050eaa5405019f5f9c",
     "grade": false,
     "grade_id": "cell-02e6ace3abd7cfb7",
     "locked": true,
     "schema_version": 1,
     "solution": false
    }
   },
   "source": [
    "## Done!\n",
    "\n",
    "That's it now you have successfully programmed a process where you visualize data automatically for many years! Pretty cool isn't it! \n",
    "\n",
    "As a final (optional) step, you can continue to Problem 6. "
   ]
  }
 ],
 "metadata": {
  "kernelspec": {
   "display_name": "Python 3",
   "language": "python",
   "name": "python3"
  },
  "language_info": {
   "codemirror_mode": {
    "name": "ipython",
    "version": 3
   },
   "file_extension": ".py",
   "mimetype": "text/x-python",
   "name": "python",
   "nbconvert_exporter": "python",
   "pygments_lexer": "ipython3",
   "version": "3.6.4"
  }
 },
 "nbformat": 4,
 "nbformat_minor": 2
}
