{
 "cells": [
  {
   "cell_type": "markdown",
   "metadata": {
    "deletable": false,
    "editable": false,
    "nbgrader": {
     "checksum": "594c292e34c9c5dd58d7f18b6dc6209a",
     "grade": false,
     "grade_id": "cell-a85f410ef0585bb8",
     "locked": true,
     "schema_version": 1,
     "solution": false
    }
   },
   "source": [
    "# Exercise 7: Plotting data in Python\n",
    "\n",
    "This week we'll put together our data analysis and plotting skills using NumPy and Matplotlib to visualize the temperature data we have been exploring for the course thus far.\n",
    "\n",
    "For each problem you need to modify the given notebook, and then upload your files to GitHub.\n",
    "The answers to the questions in this week's exercise should be given by modifying the document in places where asked.\n",
    "\n",
    "- **Exercise 7 is due by 16:00 on 28.10.**\n",
    "- Don't forget to check out [the hints for this week's exercise](https://geo-python.github.io/2018/lessons/L7/exercise-7.html) if you're having trouble.\n",
    "- Scores on this exercise are out of 30 points.\n"
   ]
  },
  {
   "cell_type": "markdown",
   "metadata": {
    "deletable": false,
    "editable": false,
    "nbgrader": {
     "checksum": "95b0a4a0173af6b3c2abcd235aebd71b",
     "grade": false,
     "grade_id": "cell-d27715b35ec5088c",
     "locked": true,
     "schema_version": 1,
     "solution": false
    }
   },
   "source": [
    "## Problem 2 - Plotting temperatures (7 points)\n",
    "\n",
    "In this first problem we'll work with weather data, and create a scatter plot of the Celsius temperatures that you should read from a file.\n",
    "\n",
    "### Steps\n",
    "\n",
    "1: Load the Helsinki temperature data from Exercise 6 (`helsinki-numpy.csv`) into variable `data` using NumPy. You can have a look at the [hints for this week's exercise](https://geo-python.github.io/2018/lessons/L7/exercise-7.html) if you would like to know how this file was produced.\n",
    "\n",
    "- Be sure to split the data into separate column vectors for `date_monthly`, `year_monthly`, `month_monthly`, `temp_monthly`, `temp_monthly_celsius`, `ref_temps_monthly`, and `anomaly`. The columns are in that order in the data file."
   ]
  },
  {
   "cell_type": "code",
   "execution_count": null,
   "metadata": {
    "deletable": false,
    "nbgrader": {
     "checksum": "988845921e1467790d136a8aafbdcfb1",
     "grade": false,
     "grade_id": "read_data",
     "locked": false,
     "schema_version": 1,
     "solution": true
    }
   },
   "outputs": [],
   "source": [
    "# YOUR CODE HERE\n",
    "raise NotImplementedError()"
   ]
  },
  {
   "cell_type": "code",
   "execution_count": null,
   "metadata": {
    "deletable": false,
    "editable": false,
    "nbgrader": {
     "checksum": "fc85e1c5226320b8094b79f8b099184a",
     "grade": true,
     "grade_id": "read_data_tests",
     "locked": true,
     "points": 1,
     "schema_version": 1,
     "solution": false
    }
   },
   "outputs": [],
   "source": [
    "# This test print should print first five rows\n",
    "print(data[:5])\n"
   ]
  },
  {
   "cell_type": "markdown",
   "metadata": {
    "deletable": false,
    "editable": false,
    "nbgrader": {
     "checksum": "ca0d0760489ac1471c98b3f9e95aff5b",
     "grade": false,
     "grade_id": "cell-97cb58eda54e413d",
     "locked": true,
     "schema_version": 1,
     "solution": false
    }
   },
   "source": [
    "2: Create a mask called **`data_2010_2016`** that you can use to create new arrays to store data covering all months between years 2010 to 2016. Take advantage of the information in `date_monthly` to do this.\n",
    "\n",
    "- Your new arrays should use the names of the old ones with `2010_2016` in place of `monthly`. For example, `date_2010_2016` or `temp_2010_2016_celsius`. You can simply add `_2010_2016` to `anomaly`.\n",
    "- *Hint: The first month should be January 2010 and the last month should be December 2016*."
   ]
  },
  {
   "cell_type": "code",
   "execution_count": null,
   "metadata": {
    "deletable": false,
    "nbgrader": {
     "checksum": "d24f737ef22a91bea93a6fe3abd75d46",
     "grade": false,
     "grade_id": "select_data",
     "locked": false,
     "schema_version": 1,
     "solution": true
    }
   },
   "outputs": [],
   "source": [
    "# YOUR CODE HERE\n",
    "raise NotImplementedError()"
   ]
  },
  {
   "cell_type": "code",
   "execution_count": null,
   "metadata": {
    "deletable": false,
    "editable": false,
    "nbgrader": {
     "checksum": "07ae8230fd6c9e1ae8cdce08bcba7076",
     "grade": true,
     "grade_id": "select_data_tests",
     "locked": true,
     "points": 2,
     "schema_version": 1,
     "solution": false
    }
   },
   "outputs": [],
   "source": [
    "# This test print should print first five rows of temp_2010_2016\n",
    "print(temp_2010_2016[:5])\n"
   ]
  },
  {
   "cell_type": "markdown",
   "metadata": {
    "deletable": false,
    "editable": false,
    "nbgrader": {
     "checksum": "fea9e119de72b5f5a7aa18f455dd11f8",
     "grade": false,
     "grade_id": "cell-322ca8ec0694eac9",
     "locked": true,
     "schema_version": 1,
     "solution": false
    }
   },
   "source": [
    "4: Make a line plot of temperatures in Celsius from the data covering years 2010-2016.\n",
    "You will first need to create a variable called `date_2010_2016`, which you can find out how to create in the [hints for this week's exercise](https://geo-python.github.io/2018/lessons/L7/exercise-7.html).\n",
    "\n",
    "\n",
    "Plot format:\n",
    "\n",
    " - The line should be a dashed black line with circles for the data points\n",
    " - You should also include a title `\"Temperatures in Celsius: 2010-2016\"` \n",
    " - X-label should be `\"Time\"`\n",
    " - Y-label should be `\"Temperature (Celsius)\"`\n",
    "\n",
    "More guidance on this problem can be found in [the hints for this week's exercise](https://geo-python.github.io/2018/lessons/L7/exercise-7.html).\n",
    "\n",
    "The final output should look something like following:\n",
    "![](img/temp_line_plot.png)\n"
   ]
  },
  {
   "cell_type": "code",
   "execution_count": null,
   "metadata": {
    "deletable": false,
    "nbgrader": {
     "checksum": "098bdc6efefca799502ceaba585e015d",
     "grade": true,
     "grade_id": "cell-5a1c53b430f78381",
     "locked": false,
     "points": 3,
     "schema_version": 1,
     "solution": true
    }
   },
   "outputs": [],
   "source": [
    "# YOUR CODE HERE\n",
    "raise NotImplementedError()\n"
   ]
  },
  {
   "cell_type": "markdown",
   "metadata": {
    "deletable": false,
    "editable": false,
    "nbgrader": {
     "checksum": "3aa236e50f5cf627a7fd8e003e7c058b",
     "grade": false,
     "grade_id": "cell-b10b5ded5458b20c",
     "locked": true,
     "schema_version": 1,
     "solution": false
    }
   },
   "source": [
    "5: Save your figure as PNG file called `temp_line_plot.png` into disk.\n"
   ]
  },
  {
   "cell_type": "code",
   "execution_count": null,
   "metadata": {
    "deletable": false,
    "nbgrader": {
     "checksum": "6b662ed8709c286c8a674475e7b74329",
     "grade": true,
     "grade_id": "cell-2e28c448b5bc62c5",
     "locked": false,
     "points": 1,
     "schema_version": 1,
     "solution": true
    }
   },
   "outputs": [],
   "source": [
    "# YOUR CODE HERE\n",
    "raise NotImplementedError()"
   ]
  },
  {
   "cell_type": "markdown",
   "metadata": {
    "deletable": false,
    "editable": false,
    "nbgrader": {
     "checksum": "e3b8bf9d9ecd9cb4754f2924d366b616",
     "grade": false,
     "grade_id": "cell-d006f551c24788b6",
     "locked": true,
     "schema_version": 1,
     "solution": false
    }
   },
   "source": [
    "6: Upload your figure and the modified notebook into your personal GitHub repository.\n",
    "\n",
    "### Done!\n",
    "\n",
    "That's it, now you can move to problem 3. "
   ]
  }
 ],
 "metadata": {
  "kernelspec": {
   "display_name": "Python 3",
   "language": "python",
   "name": "python3"
  },
  "language_info": {
   "codemirror_mode": {
    "name": "ipython",
    "version": 3
   },
   "file_extension": ".py",
   "mimetype": "text/x-python",
   "name": "python",
   "nbconvert_exporter": "python",
   "pygments_lexer": "ipython3",
   "version": "3.6.4"
  }
 },
 "nbformat": 4,
 "nbformat_minor": 2
}
